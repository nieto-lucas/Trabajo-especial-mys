{
 "cells": [
  {
   "cell_type": "markdown",
   "id": "65937ee0",
   "metadata": {},
   "source": [
    "# Trabajo Especial - Modelos y Simulación 2025\n",
    "### Lucas Nieto y Alvaro Santiago Medina\n",
    "---"
   ]
  },
  {
   "cell_type": "markdown",
   "id": "efd40715",
   "metadata": {},
   "source": [
    "# Problema"
   ]
  },
  {
   "cell_type": "markdown",
   "id": "f081eaf9",
   "metadata": {},
   "source": [
    "Se desea estimar mediante simulación estocástica la siguiente integral definida sobre el hipercubo $[0,1]^d$, donde $d=2,5,10$:\n",
    "$$\n",
    "I_d = \\int_{[0,1]^d} \\prod_{i=1}^d e^{-x_i^2}dx\n",
    "$$\n",
    "\n",
    "Como la integral es separable y tiene un valor exacto conocido, viene dado por:\n",
    "$$\n",
    "I_d = \\bigg( \\int_0^1 e^{-x_i^2}dx \\bigg)^d = \\bigg(\\frac{\\sqrt{\\pi}}{2} \\cdot erf(1)\\bigg)\n",
    "$$\n",
    "\n",
    "Donde *erf* es la función error valuada en 1. Tal que:\n",
    "$$\n",
    "erf(1) = \\frac{2}{\\sqrt{\\pi}}\\int_0^1 e^{-t^2}dt \\approx 0.8427\n",
    "$$"
   ]
  },
  {
   "cell_type": "markdown",
   "id": "885a2bd8",
   "metadata": {},
   "source": [
    "Luego el valor de $I_d$ es tal que:\n",
    "$$\n",
    "I_d = \\bigg(\\frac{\\sqrt{\\pi}}{2} \\cdot erf(1)\\bigg) = \\bigg(\\frac{\\sqrt{\\pi}}{2} \\cdot 0.8427 \\bigg) = \\boxed{0.74682}\n",
    "$$"
   ]
  },
  {
   "cell_type": "markdown",
   "id": "f15b7c94",
   "metadata": {},
   "source": [
    "Para realizar la estimación se utilizará *Monte Carlo* con un número fijo de estimaciones.\n",
    "\n",
    "Como Monte Carlo requiere de un generador de muestras uniformes en el $(0,1)$ se utilizarán los siguientes generadores:\n",
    "- **Congruencial Lineal Mixto con parámetro**s $(a, c, m) = (16807, 0, 2^{31}-1)$\n",
    "- **XORshift** \n",
    "- **Mersenne Twister** (MT19937)"
   ]
  },
  {
   "cell_type": "markdown",
   "id": "049c2fed",
   "metadata": {},
   "source": [
    "Dichas implementaciones para los generadores podemos encontrarlas en la carpeta 📁`rngs/`"
   ]
  },
  {
   "cell_type": "markdown",
   "id": "4aaedc11",
   "metadata": {},
   "source": [
    "# Importaciones Generales"
   ]
  },
  {
   "cell_type": "code",
   "execution_count": 1,
   "id": "af241a6c",
   "metadata": {},
   "outputs": [],
   "source": [
    "from constants import *\n",
    "import numpy as np\n",
    "import matplotlib.pyplot as plt\n",
    "from MonteCarlo import MonteCarlo\n",
    "from Utils import Utils\n",
    "from rngs.Xorshift32 import Xorshift\n",
    "from rngs.MersenneTwister import MersenneTwister\n",
    "from rngs.LCG import LCG\n",
    "from time import time\n",
    "\n",
    "%matplotlib inline"
   ]
  },
  {
   "cell_type": "markdown",
   "id": "466ca139",
   "metadata": {},
   "source": [
    "# Generadores"
   ]
  },
  {
   "cell_type": "markdown",
   "id": "6d279eb7",
   "metadata": {},
   "source": [
    "Para asegurarnos de que la implementación de cada uno de ellos fué correcta realizamos gráficos para chequear que ninguno cae en el problema de los *hiperplanos*."
   ]
  },
  {
   "cell_type": "markdown",
   "id": "b23561ed",
   "metadata": {},
   "source": [
    "- Graficar para cada generador en 2D con función en utils\n",
    "- Graficar hipercubo para ver que no hay hiperplanos"
   ]
  },
  {
   "cell_type": "markdown",
   "id": "0baa731c",
   "metadata": {},
   "source": [
    "# Estimaciones"
   ]
  },
  {
   "cell_type": "markdown",
   "id": "2e3d164b",
   "metadata": {},
   "source": [
    "Para que los resultados sean comparables seteamos una semilla general"
   ]
  },
  {
   "cell_type": "code",
   "execution_count": 2,
   "id": "644e8612",
   "metadata": {},
   "outputs": [],
   "source": [
    "SEED = int(time())"
   ]
  },
  {
   "cell_type": "markdown",
   "id": "905ee7ff",
   "metadata": {},
   "source": [
    "## Generador Congruencial Lineal"
   ]
  },
  {
   "cell_type": "markdown",
   "id": "7ccc13f9",
   "metadata": {},
   "source": [
    "Generamos una instancia de para la clase de *Generador Congruencial Lineal* con la `seed` general"
   ]
  },
  {
   "cell_type": "code",
   "execution_count": 3,
   "id": "9f331c78",
   "metadata": {},
   "outputs": [],
   "source": [
    "lcg = LCG(seed=SEED)"
   ]
  },
  {
   "cell_type": "markdown",
   "id": "239125c9",
   "metadata": {},
   "source": [
    "Seguido de esto realizamos la estimación de la integral utilizando Monte Carlo."
   ]
  },
  {
   "cell_type": "code",
   "execution_count": 4,
   "id": "ada7c876",
   "metadata": {},
   "outputs": [
    {
     "name": "stdout",
     "output_type": "stream",
     "text": [
      "🤔 ESTIMACIÓN LCG -> 0.557978\n",
      "🎯 VALOR REAL -> 0.557740\n",
      "🔴 ERROR CUADRÁTICO MEDIO de LCG -> 0.000001\n"
     ]
    }
   ],
   "source": [
    "lcg_estimation = Utils.rng_estimation_gaussian_in_hipercube(\n",
    "                    Nsamples=SAMPLE_SIZE_SMALL,\n",
    "                    rng=lcg,\n",
    "                    d=2\n",
    "                )\n",
    "\n",
    "lcg_cuad_error = Utils.rng_cuadratic_error_estimation(\n",
    "                    Nsim=1, \n",
    "                    Nsamples=SAMPLE_SIZE_SMALL, \n",
    "                    rng=lcg,\n",
    "                    d=2\n",
    "                )\n",
    "\n",
    "#Valor conocido de la integral\n",
    "print(f\"🤔 ESTIMACIÓN LCG -> {lcg_estimation:.6f}\")\n",
    "print(f\"🎯 VALOR REAL -> {INTEGRAL_VAL_D2:.6f}\")\n",
    "print(f\"🔴 ERROR CUADRÁTICO MEDIO de LCG -> {lcg_cuad_error:.6f}\")"
   ]
  },
  {
   "cell_type": "markdown",
   "id": "d22fde5c",
   "metadata": {},
   "source": [
    "## Xorshift"
   ]
  },
  {
   "cell_type": "markdown",
   "id": "2143dec0",
   "metadata": {},
   "source": [
    "Generamos una instancia de para la clase de *Xorshift* con la `seed` general"
   ]
  },
  {
   "cell_type": "code",
   "execution_count": 5,
   "id": "e93f9779",
   "metadata": {},
   "outputs": [],
   "source": [
    "xorshift  = Xorshift(seed=SEED)"
   ]
  },
  {
   "cell_type": "code",
   "execution_count": 6,
   "id": "73448073",
   "metadata": {},
   "outputs": [
    {
     "name": "stdout",
     "output_type": "stream",
     "text": [
      "🤔 ESTIMACIÓN XORSHIFT -> 0.557111\n",
      "🎯 VALOR REAL -> 0.557740\n",
      "🔴 ERROR CUADRÁTICO MEDIO de XORSHIFT -> 0.000003\n"
     ]
    }
   ],
   "source": [
    "xorshift_estimation = Utils.rng_estimation_gaussian_in_hipercube(\n",
    "                        Nsamples=SAMPLE_SIZE_SMALL,\n",
    "                        rng=xorshift,\n",
    "                        d=2\n",
    "                    ) \n",
    "\n",
    "xorshift_cuad_error = Utils.rng_cuadratic_error_estimation(\n",
    "                        Nsim=1, \n",
    "                        Nsamples=SAMPLE_SIZE_SMALL, \n",
    "                        rng=xorshift,\n",
    "                        d=2\n",
    "                    )\n",
    "\n",
    "print(f\"🤔 ESTIMACIÓN XORSHIFT -> {xorshift_estimation:.6f}\")\n",
    "print(f\"🎯 VALOR REAL -> {INTEGRAL_VAL_D2:.6f}\")\n",
    "print(f\"🔴 ERROR CUADRÁTICO MEDIO de XORSHIFT -> {xorshift_cuad_error:.6f}\")"
   ]
  },
  {
   "cell_type": "markdown",
   "id": "015669f3",
   "metadata": {},
   "source": [
    "## Mersenne Twister"
   ]
  },
  {
   "cell_type": "markdown",
   "id": "dcbd65e9",
   "metadata": {},
   "source": [
    "Generamos una instancia de para la clase de *Mersenne Twister* con la `seed` general"
   ]
  },
  {
   "cell_type": "code",
   "execution_count": 7,
   "id": "746bc453",
   "metadata": {},
   "outputs": [],
   "source": [
    "mersenne_twister = MersenneTwister(seed_value=SEED)"
   ]
  },
  {
   "cell_type": "markdown",
   "id": "f54007cf",
   "metadata": {},
   "source": [
    "Realizamos la estimación de la integral utilizando Monte Carlo."
   ]
  },
  {
   "cell_type": "code",
   "execution_count": 8,
   "id": "5da7caef",
   "metadata": {},
   "outputs": [
    {
     "name": "stdout",
     "output_type": "stream",
     "text": [
      "🤔 ESTIMACIÓN MERSENNE TWISTER -> 0.554772\n",
      "🎯 VALOR REAL -> 0.557740\n",
      "🔴 ERROR CUADRÁTICO MEDIO de MT -> 0.000007\n"
     ]
    }
   ],
   "source": [
    "mersenne_twister_estimation = Utils.rng_estimation_gaussian_in_hipercube(\n",
    "                                Nsamples=SAMPLE_SIZE_SMALL,\n",
    "                                rng=mersenne_twister,\n",
    "                                d=2\n",
    "                            )\n",
    "\n",
    "mersenne_twister_cuad_error = Utils.rng_cuadratic_error_estimation(\n",
    "                                Nsim=1, \n",
    "                                Nsamples=SAMPLE_SIZE_SMALL, \n",
    "                                rng=mersenne_twister,\n",
    "                                d=2\n",
    "                            )\n",
    "\n",
    "#Resultado Teórico\n",
    "print(f\"🤔 ESTIMACIÓN MERSENNE TWISTER -> {mersenne_twister_estimation:.6f}\")\n",
    "print(f\"🎯 VALOR REAL -> {INTEGRAL_VAL_D2:.6f}\")\n",
    "print(f\"🔴 ERROR CUADRÁTICO MEDIO de MT -> {mersenne_twister_cuad_error:.6f}\")"
   ]
  },
  {
   "cell_type": "markdown",
   "id": "174d4dfb",
   "metadata": {},
   "source": [
    "# Análisis"
   ]
  },
  {
   "cell_type": "markdown",
   "id": "646f1395",
   "metadata": {},
   "source": [
    "## Tiempo de estimación"
   ]
  },
  {
   "cell_type": "code",
   "execution_count": 9,
   "id": "8331a7d8",
   "metadata": {},
   "outputs": [
    {
     "name": "stdout",
     "output_type": "stream",
     "text": [
      "tiempo de estimación: 0.010354 secs\n",
      "estimación: 0.746130\n"
     ]
    }
   ],
   "source": [
    "lcg_estimation = MonteCarlo.time_method(Nsamples=SAMPLE_SIZE_SMALL,\n",
    "                                        g=Utils.gaussian_function,\n",
    "                                        rng=lcg)\n",
    "print(f\"tiempo de estimación: {lcg_estimation[0]:.6f} secs\")\n",
    "print(f\"estimación: {lcg_estimation[1]:.6f}\")"
   ]
  },
  {
   "cell_type": "code",
   "execution_count": 10,
   "id": "37cb653d",
   "metadata": {},
   "outputs": [
    {
     "name": "stdout",
     "output_type": "stream",
     "text": [
      "0.000009\n",
      "0.000010\n",
      "0.000010\n"
     ]
    }
   ],
   "source": [
    "sample_results = Utils.compare_muestral_stats(Nsamples=SAMPLE_SIZE_SMALL, Nsim=100, seed=int(time()), d=2)\n",
    "print(f\"{sample_results[\"LCG\"][1]:.6f}\")\n",
    "print(f\"{sample_results[\"Xorshift\"][1]:.6f}\")\n",
    "print(f\"{sample_results['Xorshift'][1]:.6f}\")"
   ]
  }
 ],
 "metadata": {
  "kernelspec": {
   "display_name": ".venv",
   "language": "python",
   "name": "python3"
  },
  "language_info": {
   "codemirror_mode": {
    "name": "ipython",
    "version": 3
   },
   "file_extension": ".py",
   "mimetype": "text/x-python",
   "name": "python",
   "nbconvert_exporter": "python",
   "pygments_lexer": "ipython3",
   "version": "3.12.3"
  }
 },
 "nbformat": 4,
 "nbformat_minor": 5
}
